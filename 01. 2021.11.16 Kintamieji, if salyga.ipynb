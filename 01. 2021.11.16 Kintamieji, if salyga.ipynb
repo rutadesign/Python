{
 "cells": [
  {
   "cell_type": "markdown",
   "id": "f2cba32c",
   "metadata": {},
   "source": [
    "# Kintamieji, if salyga"
   ]
  },
  {
   "cell_type": "markdown",
   "id": "19ad4f16",
   "metadata": {},
   "source": [
    "## Sveikieji skaičiai - Integer (int):"
   ]
  },
  {
   "cell_type": "code",
   "execution_count": 1,
   "id": "80d46381",
   "metadata": {},
   "outputs": [],
   "source": [
    "x = 5"
   ]
  },
  {
   "cell_type": "code",
   "execution_count": 2,
   "id": "ecaf8dd6",
   "metadata": {},
   "outputs": [
    {
     "data": {
      "text/plain": [
       "5"
      ]
     },
     "execution_count": 2,
     "metadata": {},
     "output_type": "execute_result"
    }
   ],
   "source": [
    "x"
   ]
  },
  {
   "cell_type": "code",
   "execution_count": 3,
   "id": "73d93f0e",
   "metadata": {},
   "outputs": [
    {
     "name": "stdout",
     "output_type": "stream",
     "text": [
      "5\n"
     ]
    }
   ],
   "source": [
    "print(x)"
   ]
  },
  {
   "cell_type": "markdown",
   "id": "065964cb",
   "metadata": {},
   "source": [
    "## Skaičiai su kableliu - float:"
   ]
  },
  {
   "cell_type": "code",
   "execution_count": 4,
   "id": "9f299c6c",
   "metadata": {},
   "outputs": [],
   "source": [
    "a = 8.555\n",
    "b = 5.8189"
   ]
  },
  {
   "cell_type": "code",
   "execution_count": 5,
   "id": "197f8e88",
   "metadata": {},
   "outputs": [
    {
     "data": {
      "text/plain": [
       "14.373899999999999"
      ]
     },
     "execution_count": 5,
     "metadata": {},
     "output_type": "execute_result"
    }
   ],
   "source": [
    "a + b"
   ]
  },
  {
   "cell_type": "markdown",
   "id": "d755e673",
   "metadata": {},
   "source": [
    "## Veiksmai su kintamaisiais:"
   ]
  },
  {
   "cell_type": "code",
   "execution_count": 6,
   "id": "3a3a4171",
   "metadata": {},
   "outputs": [],
   "source": [
    "a = 555 + 41567"
   ]
  },
  {
   "cell_type": "code",
   "execution_count": 7,
   "id": "e05d83ab",
   "metadata": {},
   "outputs": [
    {
     "data": {
      "text/plain": [
       "42122"
      ]
     },
     "execution_count": 7,
     "metadata": {},
     "output_type": "execute_result"
    }
   ],
   "source": [
    "a"
   ]
  },
  {
   "cell_type": "code",
   "execution_count": 8,
   "id": "2cae71d3",
   "metadata": {},
   "outputs": [
    {
     "data": {
      "text/plain": [
       "230172"
      ]
     },
     "execution_count": 8,
     "metadata": {},
     "output_type": "execute_result"
    }
   ],
   "source": [
    "231513 - 1341"
   ]
  },
  {
   "cell_type": "code",
   "execution_count": 9,
   "id": "1b81f8f5",
   "metadata": {},
   "outputs": [
    {
     "data": {
      "text/plain": [
       "910"
      ]
     },
     "execution_count": 9,
     "metadata": {},
     "output_type": "execute_result"
    }
   ],
   "source": [
    "455 * 2"
   ]
  },
  {
   "cell_type": "code",
   "execution_count": 10,
   "id": "27301da1",
   "metadata": {},
   "outputs": [
    {
     "data": {
      "text/plain": [
       "4.0"
      ]
     },
     "execution_count": 10,
     "metadata": {},
     "output_type": "execute_result"
    }
   ],
   "source": [
    "100 / 25"
   ]
  },
  {
   "cell_type": "markdown",
   "id": "d5185ab5",
   "metadata": {},
   "source": [
    "## Kintamųjų pavadinimų sudarymo taisyklės"
   ]
  },
  {
   "cell_type": "code",
   "execution_count": 11,
   "id": "9b0b1210",
   "metadata": {},
   "outputs": [],
   "source": [
    "kintamojo_pavadinimas = \"fsdf\""
   ]
  },
  {
   "cell_type": "code",
   "execution_count": 12,
   "id": "bb041785",
   "metadata": {},
   "outputs": [],
   "source": [
    "#Neįmanomas kintamojo pavadinimas\n",
    "#5kintamasis"
   ]
  },
  {
   "cell_type": "code",
   "execution_count": 13,
   "id": "0d23e653",
   "metadata": {},
   "outputs": [],
   "source": [
    "#Tokio kintamojo pavadinimo neturetu niekur buti\n",
    "kintamojoPavadinimas = 1"
   ]
  },
  {
   "cell_type": "code",
   "execution_count": 14,
   "id": "e91cbd90",
   "metadata": {},
   "outputs": [],
   "source": [
    "#Tiktai klasems\n",
    "KintamojoPavadinimas = 5"
   ]
  },
  {
   "cell_type": "code",
   "execution_count": 15,
   "id": "7a501878",
   "metadata": {},
   "outputs": [],
   "source": [
    "#Konstanta\n",
    "KONSTANTA_KINTAMASIS = '1515'"
   ]
  },
  {
   "cell_type": "code",
   "execution_count": 16,
   "id": "3cfe0951",
   "metadata": {},
   "outputs": [],
   "source": [
    "#kintamaisiais negali buti Python raktiniai zodziai:\n",
    "#False, None, True, and, as, assert, async "
   ]
  },
  {
   "cell_type": "code",
   "execution_count": 17,
   "id": "5e5bc9ad",
   "metadata": {},
   "outputs": [
    {
     "data": {
      "text/plain": [
       "125"
      ]
     },
     "execution_count": 17,
     "metadata": {},
     "output_type": "execute_result"
    }
   ],
   "source": [
    "#Kelimas laipsniu\n",
    "x ** 3"
   ]
  },
  {
   "cell_type": "code",
   "execution_count": 18,
   "id": "638b861b",
   "metadata": {},
   "outputs": [
    {
     "data": {
      "text/plain": [
       "4"
      ]
     },
     "execution_count": 18,
     "metadata": {},
     "output_type": "execute_result"
    }
   ],
   "source": [
    "2 ** 2"
   ]
  },
  {
   "cell_type": "code",
   "execution_count": 19,
   "id": "2ab8dbcc",
   "metadata": {},
   "outputs": [
    {
     "data": {
      "text/plain": [
       "8"
      ]
     },
     "execution_count": 19,
     "metadata": {},
     "output_type": "execute_result"
    }
   ],
   "source": [
    "2 ** 3"
   ]
  },
  {
   "cell_type": "code",
   "execution_count": 20,
   "id": "43cda475",
   "metadata": {},
   "outputs": [],
   "source": [
    "#Sveikojo skaiciaus ir liekanos paieška"
   ]
  },
  {
   "cell_type": "code",
   "execution_count": 21,
   "id": "39ea19db",
   "metadata": {},
   "outputs": [
    {
     "data": {
      "text/plain": [
       "5"
      ]
     },
     "execution_count": 21,
     "metadata": {},
     "output_type": "execute_result"
    }
   ],
   "source": [
    "a = 32 / 6\n",
    "a\n",
    "\n",
    "a = 32 // 6\n",
    "a"
   ]
  },
  {
   "cell_type": "code",
   "execution_count": 22,
   "id": "3b9134a2",
   "metadata": {},
   "outputs": [
    {
     "data": {
      "text/plain": [
       "5.333333333333333"
      ]
     },
     "execution_count": 22,
     "metadata": {},
     "output_type": "execute_result"
    }
   ],
   "source": [
    "32 / 6"
   ]
  },
  {
   "cell_type": "code",
   "execution_count": 23,
   "id": "57eb4a25",
   "metadata": {},
   "outputs": [
    {
     "data": {
      "text/plain": [
       "5"
      ]
     },
     "execution_count": 23,
     "metadata": {},
     "output_type": "execute_result"
    }
   ],
   "source": [
    "32 // 6"
   ]
  },
  {
   "cell_type": "markdown",
   "id": "28148639",
   "metadata": {},
   "source": [
    "# String - simbolių eilutė"
   ]
  },
  {
   "cell_type": "code",
   "execution_count": 24,
   "id": "3b73c028",
   "metadata": {},
   "outputs": [],
   "source": [
    "zodis = \"valanda\"\n",
    "textas = \",tam tikras keistas tekstas ...\"\n",
    "tekstas = 'jau,. saulele vel atkopdama budino svieta'"
   ]
  },
  {
   "cell_type": "code",
   "execution_count": 25,
   "id": "384183d8",
   "metadata": {},
   "outputs": [
    {
     "data": {
      "text/plain": [
       "['jau,.', 'saulele', 'vel', 'atkopdama', 'budino', 'svieta']"
      ]
     },
     "execution_count": 25,
     "metadata": {},
     "output_type": "execute_result"
    }
   ],
   "source": [
    "tekstas.split()"
   ]
  },
  {
   "cell_type": "code",
   "execution_count": 26,
   "id": "5127cdfa",
   "metadata": {},
   "outputs": [
    {
     "data": {
      "text/plain": [
       "['jau,.', 'saulele', 'vel', 'atkopdama', 'budino', 'svieta']"
      ]
     },
     "execution_count": 26,
     "metadata": {},
     "output_type": "execute_result"
    }
   ],
   "source": [
    "tekstas.split( )"
   ]
  },
  {
   "cell_type": "code",
   "execution_count": 27,
   "id": "94c2d078",
   "metadata": {},
   "outputs": [
    {
     "data": {
      "text/plain": [
       "['jau,. saulele ', ' atkopdama budino svieta']"
      ]
     },
     "execution_count": 27,
     "metadata": {},
     "output_type": "execute_result"
    }
   ],
   "source": [
    "tekstas.split(\"vel\")"
   ]
  },
  {
   "cell_type": "code",
   "execution_count": 28,
   "id": "97587569",
   "metadata": {},
   "outputs": [
    {
     "data": {
      "text/plain": [
       "'jau,. saulele vel atkopdama budino svieta'"
      ]
     },
     "execution_count": 28,
     "metadata": {},
     "output_type": "execute_result"
    }
   ],
   "source": [
    "tekstas.strip( )"
   ]
  },
  {
   "cell_type": "code",
   "execution_count": 29,
   "id": "b7e2a2c2",
   "metadata": {},
   "outputs": [
    {
     "data": {
      "text/plain": [
       "'Jau,. saulele vel atkopdama budino svieta'"
      ]
     },
     "execution_count": 29,
     "metadata": {},
     "output_type": "execute_result"
    }
   ],
   "source": [
    "tekstas.capitalize()"
   ]
  },
  {
   "cell_type": "code",
   "execution_count": 30,
   "id": "5188722b",
   "metadata": {},
   "outputs": [
    {
     "data": {
      "text/plain": [
       "[',tam', 'tikras', 'keistas', 'tekstas', '...']"
      ]
     },
     "execution_count": 30,
     "metadata": {},
     "output_type": "execute_result"
    }
   ],
   "source": [
    "textas.split()"
   ]
  },
  {
   "cell_type": "code",
   "execution_count": 31,
   "id": "dcc3cd54",
   "metadata": {},
   "outputs": [
    {
     "data": {
      "text/plain": [
       "[',tam', 'tikras', 'keistas', 'tekstas', '...']"
      ]
     },
     "execution_count": 31,
     "metadata": {},
     "output_type": "execute_result"
    }
   ],
   "source": [
    "textas.split( )"
   ]
  },
  {
   "cell_type": "code",
   "execution_count": 32,
   "id": "a17ca8e9",
   "metadata": {},
   "outputs": [
    {
     "data": {
      "text/plain": [
       "[',tam ', ' keistas tekstas ...']"
      ]
     },
     "execution_count": 32,
     "metadata": {},
     "output_type": "execute_result"
    }
   ],
   "source": [
    "textas.split('tikras')"
   ]
  },
  {
   "cell_type": "code",
   "execution_count": 33,
   "id": "b563a4c3",
   "metadata": {},
   "outputs": [
    {
     "data": {
      "text/plain": [
       "',tam tikras keistas tekstas ...'"
      ]
     },
     "execution_count": 33,
     "metadata": {},
     "output_type": "execute_result"
    }
   ],
   "source": [
    "textas.strip()"
   ]
  },
  {
   "cell_type": "code",
   "execution_count": 34,
   "id": "e8811cde",
   "metadata": {},
   "outputs": [
    {
     "data": {
      "text/plain": [
       "'tam tikras keistas tekstas'"
      ]
     },
     "execution_count": 34,
     "metadata": {},
     "output_type": "execute_result"
    }
   ],
   "source": [
    "textas.strip(\" .,\")"
   ]
  },
  {
   "cell_type": "code",
   "execution_count": 35,
   "id": "583032d6",
   "metadata": {},
   "outputs": [
    {
     "data": {
      "text/plain": [
       "',tam tikras keistas tekstas'"
      ]
     },
     "execution_count": 35,
     "metadata": {},
     "output_type": "execute_result"
    }
   ],
   "source": [
    "textas.rstrip(\". ,\")"
   ]
  },
  {
   "cell_type": "code",
   "execution_count": 36,
   "id": "a3643f76",
   "metadata": {},
   "outputs": [
    {
     "data": {
      "text/plain": [
       "'tam tikras keistas tekstas ...'"
      ]
     },
     "execution_count": 36,
     "metadata": {},
     "output_type": "execute_result"
    }
   ],
   "source": [
    "textas.lstrip(\",. ,\")"
   ]
  },
  {
   "cell_type": "code",
   "execution_count": 37,
   "id": "74c89222",
   "metadata": {},
   "outputs": [
    {
     "data": {
      "text/plain": [
       "',tam tikras keistas tekstas ...'"
      ]
     },
     "execution_count": 37,
     "metadata": {},
     "output_type": "execute_result"
    }
   ],
   "source": [
    "textas.capitalize()"
   ]
  },
  {
   "cell_type": "code",
   "execution_count": 38,
   "id": "3cf81977",
   "metadata": {},
   "outputs": [
    {
     "data": {
      "text/plain": [
       "'Ruta'"
      ]
     },
     "execution_count": 38,
     "metadata": {},
     "output_type": "execute_result"
    }
   ],
   "source": [
    "\"ruta\".capitalize()"
   ]
  },
  {
   "cell_type": "code",
   "execution_count": 39,
   "id": "ba333ffc",
   "metadata": {},
   "outputs": [
    {
     "data": {
      "text/plain": [
       "',Tam Tikras Keistas Tekstas ...'"
      ]
     },
     "execution_count": 39,
     "metadata": {},
     "output_type": "execute_result"
    }
   ],
   "source": [
    "textas.title()"
   ]
  },
  {
   "cell_type": "code",
   "execution_count": 40,
   "id": "40bcc609",
   "metadata": {},
   "outputs": [
    {
     "data": {
      "text/plain": [
       "False"
      ]
     },
     "execution_count": 40,
     "metadata": {},
     "output_type": "execute_result"
    }
   ],
   "source": [
    "textas.isdigit()"
   ]
  },
  {
   "cell_type": "code",
   "execution_count": 41,
   "id": "99224d2c",
   "metadata": {},
   "outputs": [
    {
     "data": {
      "text/plain": [
       "True"
      ]
     },
     "execution_count": 41,
     "metadata": {},
     "output_type": "execute_result"
    }
   ],
   "source": [
    "textas.isascii()"
   ]
  },
  {
   "cell_type": "code",
   "execution_count": 42,
   "id": "b4872c8a",
   "metadata": {},
   "outputs": [
    {
     "data": {
      "text/plain": [
       "True"
      ]
     },
     "execution_count": 42,
     "metadata": {},
     "output_type": "execute_result"
    }
   ],
   "source": [
    "\"317541\".isdigit()"
   ]
  },
  {
   "cell_type": "code",
   "execution_count": 43,
   "id": "e662fbee",
   "metadata": {},
   "outputs": [
    {
     "data": {
      "text/plain": [
       "False"
      ]
     },
     "execution_count": 43,
     "metadata": {},
     "output_type": "execute_result"
    }
   ],
   "source": [
    "textas.isnumeric()"
   ]
  },
  {
   "cell_type": "code",
   "execution_count": 44,
   "id": "5e5df51f",
   "metadata": {},
   "outputs": [
    {
     "data": {
      "text/plain": [
       "1"
      ]
     },
     "execution_count": 44,
     "metadata": {},
     "output_type": "execute_result"
    }
   ],
   "source": [
    "textas.find(\"tam tikras\")"
   ]
  },
  {
   "cell_type": "code",
   "execution_count": 45,
   "id": "f2f9747e",
   "metadata": {},
   "outputs": [
    {
     "data": {
      "text/plain": [
       "2"
      ]
     },
     "execution_count": 45,
     "metadata": {},
     "output_type": "execute_result"
    }
   ],
   "source": [
    "textas.find(\"a\")"
   ]
  },
  {
   "cell_type": "code",
   "execution_count": 46,
   "id": "d98d3423",
   "metadata": {},
   "outputs": [
    {
     "data": {
      "text/plain": [
       "True"
      ]
     },
     "execution_count": 46,
     "metadata": {},
     "output_type": "execute_result"
    }
   ],
   "source": [
    "\"fsafsa\".isalpha()"
   ]
  },
  {
   "cell_type": "code",
   "execution_count": 47,
   "id": "2e38d9ef",
   "metadata": {},
   "outputs": [
    {
     "data": {
      "text/plain": [
       "False"
      ]
     },
     "execution_count": 47,
     "metadata": {},
     "output_type": "execute_result"
    }
   ],
   "source": [
    "\"fewgwe te\".isalpha()"
   ]
  },
  {
   "cell_type": "code",
   "execution_count": 48,
   "id": "824af38f",
   "metadata": {},
   "outputs": [
    {
     "data": {
      "text/plain": [
       "True"
      ]
     },
     "execution_count": 48,
     "metadata": {},
     "output_type": "execute_result"
    }
   ],
   "source": [
    "\"fgasgsagap67\".isalnum()"
   ]
  },
  {
   "cell_type": "code",
   "execution_count": 49,
   "id": "d6eb6fdf",
   "metadata": {},
   "outputs": [
    {
     "data": {
      "text/plain": [
       "False"
      ]
     },
     "execution_count": 49,
     "metadata": {},
     "output_type": "execute_result"
    }
   ],
   "source": [
    "\"fagsa...523\".isalnum()"
   ]
  },
  {
   "cell_type": "code",
   "execution_count": 50,
   "id": "020acd45",
   "metadata": {},
   "outputs": [
    {
     "data": {
      "text/plain": [
       "'fds dsgds fdsg'"
      ]
     },
     "execution_count": 50,
     "metadata": {},
     "output_type": "execute_result"
    }
   ],
   "source": [
    "\" \".join([\"fds\", \"dsgds\", \"fdsg\"])"
   ]
  },
  {
   "cell_type": "code",
   "execution_count": 51,
   "id": "15e40c94",
   "metadata": {},
   "outputs": [
    {
     "data": {
      "text/plain": [
       "'fds=dsgds=fdsg'"
      ]
     },
     "execution_count": 51,
     "metadata": {},
     "output_type": "execute_result"
    }
   ],
   "source": [
    "\"=\".join([\"fds\", \"dsgds\", \"fdsg\"])"
   ]
  },
  {
   "cell_type": "code",
   "execution_count": 52,
   "id": "4abfa9f6",
   "metadata": {},
   "outputs": [
    {
     "data": {
      "text/plain": [
       "'fds.dsgds.fdsg'"
      ]
     },
     "execution_count": 52,
     "metadata": {},
     "output_type": "execute_result"
    }
   ],
   "source": [
    "\".\".join([\"fds\", \"dsgds\", \"fdsg\"])"
   ]
  },
  {
   "cell_type": "code",
   "execution_count": 53,
   "id": "4961d07a",
   "metadata": {},
   "outputs": [
    {
     "data": {
      "text/plain": [
       "True"
      ]
     },
     "execution_count": 53,
     "metadata": {},
     "output_type": "execute_result"
    }
   ],
   "source": [
    "\"fsaas\".endswith(\"as\")"
   ]
  },
  {
   "cell_type": "code",
   "execution_count": 54,
   "id": "1f5247f5",
   "metadata": {},
   "outputs": [
    {
     "data": {
      "text/plain": [
       "False"
      ]
     },
     "execution_count": 54,
     "metadata": {},
     "output_type": "execute_result"
    }
   ],
   "source": [
    "\"dsafassdd\".endswith(\"as\")"
   ]
  },
  {
   "cell_type": "code",
   "execution_count": 55,
   "id": "518418db",
   "metadata": {},
   "outputs": [
    {
     "data": {
      "text/plain": [
       "False"
      ]
     },
     "execution_count": 55,
     "metadata": {},
     "output_type": "execute_result"
    }
   ],
   "source": [
    "\"gagsas\".startswith(\"ru\")"
   ]
  },
  {
   "cell_type": "code",
   "execution_count": 56,
   "id": "319a16a5",
   "metadata": {},
   "outputs": [
    {
     "data": {
      "text/plain": [
       "True"
      ]
     },
     "execution_count": 56,
     "metadata": {},
     "output_type": "execute_result"
    }
   ],
   "source": [
    "\"dsafsagas\".startswith(\"ds\")"
   ]
  },
  {
   "cell_type": "markdown",
   "id": "642e277a",
   "metadata": {},
   "source": [
    "## Special simboliai"
   ]
  },
  {
   "cell_type": "code",
   "execution_count": 4,
   "id": "7fcb3f7f",
   "metadata": {},
   "outputs": [],
   "source": [
    "x = \"da\\nfefew\\rvagsa\\nfqwgqw\""
   ]
  },
  {
   "cell_type": "code",
   "execution_count": 5,
   "id": "46dcd270",
   "metadata": {},
   "outputs": [
    {
     "data": {
      "text/plain": [
       "'da\\nfefew\\rvagsa\\nfqwgqw'"
      ]
     },
     "execution_count": 5,
     "metadata": {},
     "output_type": "execute_result"
    }
   ],
   "source": [
    "x"
   ]
  },
  {
   "cell_type": "code",
   "execution_count": 6,
   "id": "800b4118",
   "metadata": {},
   "outputs": [
    {
     "name": "stdout",
     "output_type": "stream",
     "text": [
      "da\n",
      "fefew\r",
      "vagsa\n",
      "fqwgqw\n"
     ]
    }
   ],
   "source": [
    "print(x)"
   ]
  },
  {
   "cell_type": "code",
   "execution_count": 7,
   "id": "dc90a644",
   "metadata": {},
   "outputs": [
    {
     "data": {
      "text/plain": [
       "3"
      ]
     },
     "execution_count": 7,
     "metadata": {},
     "output_type": "execute_result"
    }
   ],
   "source": [
    "x = \"da\\f\"\n",
    "len(x)"
   ]
  },
  {
   "cell_type": "code",
   "execution_count": 8,
   "id": "097668bf",
   "metadata": {},
   "outputs": [
    {
     "name": "stdout",
     "output_type": "stream",
     "text": [
      "da\f",
      "\n"
     ]
    }
   ],
   "source": [
    "x = \"da\\f\"\n",
    "print(x)"
   ]
  },
  {
   "cell_type": "code",
   "execution_count": 9,
   "id": "bf0b11b6",
   "metadata": {},
   "outputs": [
    {
     "name": "stdout",
     "output_type": "stream",
     "text": [
      "rwq\\d\n"
     ]
    }
   ],
   "source": [
    "# du backsliašai cancel'ina vieną\n",
    "x = \"rwq\\\\d\"\n",
    "print(x)"
   ]
  },
  {
   "cell_type": "code",
   "execution_count": 10,
   "id": "e65abf92",
   "metadata": {},
   "outputs": [
    {
     "name": "stdout",
     "output_type": "stream",
     "text": [
      "d\\ndga\tfwafwa\n"
     ]
    }
   ],
   "source": [
    "# \\t reiškia tab'ą\n",
    "x = \"d\\\\ndga\\tfwafwa\"\n",
    "print(x)"
   ]
  },
  {
   "cell_type": "markdown",
   "id": "27753ca8",
   "metadata": {},
   "source": [
    "## Slice"
   ]
  },
  {
   "cell_type": "code",
   "execution_count": 62,
   "id": "f2853b92",
   "metadata": {},
   "outputs": [
    {
     "data": {
      "text/plain": [
       "'C'"
      ]
     },
     "execution_count": 62,
     "metadata": {},
     "output_type": "execute_result"
    }
   ],
   "source": [
    "zodis = \"Code Academy\"\n",
    "zodis[0]"
   ]
  },
  {
   "cell_type": "code",
   "execution_count": 63,
   "id": "56fb864a",
   "metadata": {},
   "outputs": [
    {
     "name": "stdout",
     "output_type": "stream",
     "text": [
      "[0]\n"
     ]
    }
   ],
   "source": [
    "# Mano bandymas\n",
    "print([0])"
   ]
  },
  {
   "cell_type": "code",
   "execution_count": 64,
   "id": "971c5395",
   "metadata": {},
   "outputs": [
    {
     "data": {
      "text/plain": [
       "'o'"
      ]
     },
     "execution_count": 64,
     "metadata": {},
     "output_type": "execute_result"
    }
   ],
   "source": [
    "zodis[1]"
   ]
  },
  {
   "cell_type": "code",
   "execution_count": 65,
   "id": "0e77525e",
   "metadata": {},
   "outputs": [
    {
     "data": {
      "text/plain": [
       "'e'"
      ]
     },
     "execution_count": 65,
     "metadata": {},
     "output_type": "execute_result"
    }
   ],
   "source": [
    "zodis[3]"
   ]
  },
  {
   "cell_type": "code",
   "execution_count": 66,
   "id": "5f4314b2",
   "metadata": {},
   "outputs": [
    {
     "data": {
      "text/plain": [
       "'y'"
      ]
     },
     "execution_count": 66,
     "metadata": {},
     "output_type": "execute_result"
    }
   ],
   "source": [
    "zodis[-1]"
   ]
  },
  {
   "cell_type": "code",
   "execution_count": 67,
   "id": "6bd54f61",
   "metadata": {},
   "outputs": [
    {
     "data": {
      "text/plain": [
       "'e'"
      ]
     },
     "execution_count": 67,
     "metadata": {},
     "output_type": "execute_result"
    }
   ],
   "source": [
    "zodis[-3]"
   ]
  },
  {
   "cell_type": "code",
   "execution_count": 68,
   "id": "59905f12",
   "metadata": {},
   "outputs": [
    {
     "data": {
      "text/plain": [
       "'Academy'"
      ]
     },
     "execution_count": 68,
     "metadata": {},
     "output_type": "execute_result"
    }
   ],
   "source": [
    "zodis[5:]"
   ]
  },
  {
   "cell_type": "code",
   "execution_count": 69,
   "id": "a29ca450",
   "metadata": {},
   "outputs": [
    {
     "data": {
      "text/plain": [
       "'ode '"
      ]
     },
     "execution_count": 69,
     "metadata": {},
     "output_type": "execute_result"
    }
   ],
   "source": [
    "zodis[1:5]"
   ]
  },
  {
   "cell_type": "code",
   "execution_count": 70,
   "id": "e5564262",
   "metadata": {},
   "outputs": [
    {
     "data": {
      "text/plain": [
       "'Code Acade'"
      ]
     },
     "execution_count": 70,
     "metadata": {},
     "output_type": "execute_result"
    }
   ],
   "source": [
    "zodis[0:-2]"
   ]
  },
  {
   "cell_type": "code",
   "execution_count": 71,
   "id": "26b36ce4",
   "metadata": {},
   "outputs": [],
   "source": [
    "# x - nuo kurio elemento\n",
    "# y - iki kurio elemento\n",
    "# z - kas kelintas elementas"
   ]
  },
  {
   "cell_type": "code",
   "execution_count": 72,
   "id": "0ceabc67",
   "metadata": {},
   "outputs": [],
   "source": [
    "# i[x:y:z]"
   ]
  },
  {
   "cell_type": "code",
   "execution_count": 73,
   "id": "32ea9087",
   "metadata": {},
   "outputs": [
    {
     "data": {
      "text/plain": [
       "'Code Acade'"
      ]
     },
     "execution_count": 73,
     "metadata": {},
     "output_type": "execute_result"
    }
   ],
   "source": [
    "zodis[:-2]"
   ]
  },
  {
   "cell_type": "code",
   "execution_count": 74,
   "id": "a253a74d",
   "metadata": {},
   "outputs": [
    {
     "data": {
      "text/plain": [
       "'Code Acade'"
      ]
     },
     "execution_count": 74,
     "metadata": {},
     "output_type": "execute_result"
    }
   ],
   "source": [
    "zodis[0:-2]"
   ]
  },
  {
   "cell_type": "code",
   "execution_count": 75,
   "id": "153ca4cc",
   "metadata": {},
   "outputs": [
    {
     "data": {
      "text/plain": [
       "'od'"
      ]
     },
     "execution_count": 75,
     "metadata": {},
     "output_type": "execute_result"
    }
   ],
   "source": [
    "zodis[1:3]"
   ]
  },
  {
   "cell_type": "markdown",
   "id": "cbf744ab",
   "metadata": {},
   "source": [
    "## String suliejimas"
   ]
  },
  {
   "cell_type": "code",
   "execution_count": 13,
   "id": "7a341ac0",
   "metadata": {},
   "outputs": [],
   "source": [
    "vardas = \"Vardenis\"\n",
    "pavarde = \"Pavardenis\"\n",
    "prefix = \"Mr.\"\n",
    "#prefix yra priesdelis"
   ]
  },
  {
   "cell_type": "code",
   "execution_count": 77,
   "id": "24d3474c",
   "metadata": {},
   "outputs": [
    {
     "data": {
      "text/plain": [
       "'Mr.VardenisPavardenis'"
      ]
     },
     "execution_count": 77,
     "metadata": {},
     "output_type": "execute_result"
    }
   ],
   "source": [
    "prefix + vardas + pavarde "
   ]
  },
  {
   "cell_type": "code",
   "execution_count": 78,
   "id": "ab1ccf7b",
   "metadata": {},
   "outputs": [
    {
     "data": {
      "text/plain": [
       "'Mr. Vardenis Pavardenis'"
      ]
     },
     "execution_count": 78,
     "metadata": {},
     "output_type": "execute_result"
    }
   ],
   "source": [
    "prefix + \" \" + vardas + \" \" + pavarde "
   ]
  },
  {
   "cell_type": "code",
   "execution_count": 79,
   "id": "3c2abf14",
   "metadata": {
    "scrolled": true
   },
   "outputs": [
    {
     "data": {
      "text/plain": [
       "'Mr. Vardenis Pavardenis'"
      ]
     },
     "execution_count": 79,
     "metadata": {},
     "output_type": "execute_result"
    }
   ],
   "source": [
    "#nurodome kiekvieno kintamojo vieta ir tada pasakome kad tu sudek siuos kintamuosius i tas vietas\n",
    "\"%s %s %s\" % (prefix, vardas, pavarde)"
   ]
  },
  {
   "cell_type": "code",
   "execution_count": 80,
   "id": "723cd286",
   "metadata": {},
   "outputs": [
    {
     "data": {
      "text/plain": [
       "'Mr. Vardenis'"
      ]
     },
     "execution_count": 80,
     "metadata": {},
     "output_type": "execute_result"
    }
   ],
   "source": [
    "\"{prefix} {vardas}\".format (prefix=prefix, vardas=vardas)"
   ]
  },
  {
   "cell_type": "code",
   "execution_count": 81,
   "id": "eead9398",
   "metadata": {},
   "outputs": [
    {
     "data": {
      "text/plain": [
       "'Mr. Vardenis'"
      ]
     },
     "execution_count": 81,
     "metadata": {},
     "output_type": "execute_result"
    }
   ],
   "source": [
    "\"{} {}\".format (prefix, vardas)"
   ]
  },
  {
   "cell_type": "code",
   "execution_count": 82,
   "id": "30d3c6d6",
   "metadata": {},
   "outputs": [
    {
     "data": {
      "text/plain": [
       "'Mr. Vardenis'"
      ]
     },
     "execution_count": 82,
     "metadata": {},
     "output_type": "execute_result"
    }
   ],
   "source": [
    "#dar galima paduoti dictionary su dviem žvaigždutėm\n",
    "\"{prefix} {vardas}\".format(**{\"prefix\":prefix, \"vardas\":vardas})"
   ]
  },
  {
   "cell_type": "code",
   "execution_count": 83,
   "id": "bb1f9cd6",
   "metadata": {},
   "outputs": [
    {
     "data": {
      "text/plain": [
       "'Mr. Vardenis pavardenis 10'"
      ]
     },
     "execution_count": 83,
     "metadata": {},
     "output_type": "execute_result"
    }
   ],
   "source": [
    "# fstringas t.y. specialus stringas, kuri mes norime suformatuoti\n",
    "f\"{prefix} {vardas} {pavarde.lower()} {15-5}\""
   ]
  },
  {
   "cell_type": "code",
   "execution_count": 84,
   "id": "8754bc6d",
   "metadata": {},
   "outputs": [
    {
     "name": "stdout",
     "output_type": "stream",
     "text": [
      "vardas: Vardenis\n"
     ]
    }
   ],
   "source": [
    "print(\"vardas:\", vardas)"
   ]
  },
  {
   "cell_type": "code",
   "execution_count": 15,
   "id": "77d28d7d",
   "metadata": {},
   "outputs": [
    {
     "name": "stdout",
     "output_type": "stream",
     "text": [
      "vardas = 'Vardenis'\n"
     ]
    }
   ],
   "source": [
    "# = ir kintamojo pavadinima pasako\n",
    "print(f\"{vardas = }\")"
   ]
  },
  {
   "cell_type": "markdown",
   "id": "097025bb",
   "metadata": {},
   "source": [
    "## Veiksmai su skirtingais tipais (konvertavimas):"
   ]
  },
  {
   "cell_type": "code",
   "execution_count": 86,
   "id": "492bdc5f",
   "metadata": {},
   "outputs": [],
   "source": [
    "i = 1\n",
    "f = 0.5\n",
    "s = \"156\"\n",
    "b = True\n",
    "n = None"
   ]
  },
  {
   "cell_type": "code",
   "execution_count": 87,
   "id": "e4295a78",
   "metadata": {},
   "outputs": [
    {
     "data": {
      "text/plain": [
       "('1', '0.5', 1.0, 0, 156, 156.0)"
      ]
     },
     "execution_count": 87,
     "metadata": {},
     "output_type": "execute_result"
    }
   ],
   "source": [
    "str(i), str(f), float(i), int(f), int(s), float(s)"
   ]
  },
  {
   "cell_type": "code",
   "execution_count": 88,
   "id": "0543be4e",
   "metadata": {},
   "outputs": [
    {
     "data": {
      "text/plain": [
       "0"
      ]
     },
     "execution_count": 88,
     "metadata": {},
     "output_type": "execute_result"
    }
   ],
   "source": [
    "int(f)"
   ]
  },
  {
   "cell_type": "code",
   "execution_count": 89,
   "id": "0f751058",
   "metadata": {},
   "outputs": [
    {
     "data": {
      "text/plain": [
       "(0, 1)"
      ]
     },
     "execution_count": 89,
     "metadata": {},
     "output_type": "execute_result"
    }
   ],
   "source": [
    "#False lygu 0, True lygu 1, toks atitikmuo\n",
    "int(False), int(True)"
   ]
  },
  {
   "cell_type": "code",
   "execution_count": 90,
   "id": "570ce417",
   "metadata": {},
   "outputs": [
    {
     "data": {
      "text/plain": [
       "'156 156 156 156 156 156 156 156 156 156 '"
      ]
     },
     "execution_count": 90,
     "metadata": {},
     "output_type": "execute_result"
    }
   ],
   "source": [
    "#tiesiog pakartojame 10 kartu stringa\n",
    "\"156 \" * 10 "
   ]
  },
  {
   "cell_type": "code",
   "execution_count": 91,
   "id": "a2f7295c",
   "metadata": {},
   "outputs": [
    {
     "data": {
      "text/plain": [
       "1560"
      ]
     },
     "execution_count": 91,
     "metadata": {},
     "output_type": "execute_result"
    }
   ],
   "source": [
    "156 * 10"
   ]
  },
  {
   "cell_type": "code",
   "execution_count": 92,
   "id": "c58d255c",
   "metadata": {},
   "outputs": [
    {
     "data": {
      "text/plain": [
       "(1, 4, 'asf')"
      ]
     },
     "execution_count": 92,
     "metadata": {},
     "output_type": "execute_result"
    }
   ],
   "source": [
    "# Python supranta kaip Tuple. Sarasas elementu, kuris nera kintamas.\n",
    "# jei per kableli parasome reiksmes programa interpretuoja kad tai yra Tuple\n",
    "\n",
    "1, 4 , \"asf\""
   ]
  },
  {
   "cell_type": "code",
   "execution_count": 93,
   "id": "37a57299",
   "metadata": {},
   "outputs": [
    {
     "data": {
      "text/plain": [
       "(1, 4, 'asf')"
      ]
     },
     "execution_count": 93,
     "metadata": {},
     "output_type": "execute_result"
    }
   ],
   "source": [
    "(1, 4, \"asf\")"
   ]
  },
  {
   "cell_type": "code",
   "execution_count": 94,
   "id": "bfa66175",
   "metadata": {},
   "outputs": [
    {
     "data": {
      "text/plain": [
       "[1, 4, 'asf']"
      ]
     },
     "execution_count": 94,
     "metadata": {},
     "output_type": "execute_result"
    }
   ],
   "source": [
    "[1, 4, 'asf']"
   ]
  },
  {
   "cell_type": "markdown",
   "id": "1a5efa23",
   "metadata": {},
   "source": [
    "## Loginiai operatoriai:"
   ]
  },
  {
   "cell_type": "code",
   "execution_count": 95,
   "id": "18e168d7",
   "metadata": {},
   "outputs": [],
   "source": [
    "# priskyrimas. To assign a value. Lygybe priskiria reiksme.\n",
    "x = 5"
   ]
  },
  {
   "cell_type": "code",
   "execution_count": 96,
   "id": "c0d671ff",
   "metadata": {},
   "outputs": [
    {
     "data": {
      "text/plain": [
       "(True, False)"
      ]
     },
     "execution_count": 96,
     "metadata": {},
     "output_type": "execute_result"
    }
   ],
   "source": [
    "1 == 1, 1 == 2"
   ]
  },
  {
   "cell_type": "code",
   "execution_count": 97,
   "id": "5695d25d",
   "metadata": {},
   "outputs": [
    {
     "data": {
      "text/plain": [
       "True"
      ]
     },
     "execution_count": 97,
     "metadata": {},
     "output_type": "execute_result"
    }
   ],
   "source": [
    "1 != 2"
   ]
  },
  {
   "cell_type": "code",
   "execution_count": 98,
   "id": "2722f42f",
   "metadata": {},
   "outputs": [
    {
     "data": {
      "text/plain": [
       "(True, False)"
      ]
     },
     "execution_count": 98,
     "metadata": {},
     "output_type": "execute_result"
    }
   ],
   "source": [
    "True and True, True and False"
   ]
  },
  {
   "cell_type": "code",
   "execution_count": 99,
   "id": "f761a703",
   "metadata": {},
   "outputs": [
    {
     "data": {
      "text/plain": [
       "(True, False)"
      ]
     },
     "execution_count": 99,
     "metadata": {},
     "output_type": "execute_result"
    }
   ],
   "source": [
    "# Ar bent viena is pusiu lygi True\n",
    "True or False, False or False"
   ]
  },
  {
   "cell_type": "code",
   "execution_count": 100,
   "id": "b1d2599b",
   "metadata": {},
   "outputs": [
    {
     "data": {
      "text/plain": [
       "(False, True, True, True)"
      ]
     },
     "execution_count": 100,
     "metadata": {},
     "output_type": "execute_result"
    }
   ],
   "source": [
    "False or False, True or False, False or True, True or True"
   ]
  },
  {
   "cell_type": "code",
   "execution_count": 101,
   "id": "06bb40ee",
   "metadata": {},
   "outputs": [
    {
     "data": {
      "text/plain": [
       "(True, True)"
      ]
     },
     "execution_count": 101,
     "metadata": {},
     "output_type": "execute_result"
    }
   ],
   "source": [
    "10 > 0, 10 < 20"
   ]
  },
  {
   "cell_type": "code",
   "execution_count": 102,
   "id": "be3a34d5",
   "metadata": {},
   "outputs": [
    {
     "data": {
      "text/plain": [
       "(True, True)"
      ]
     },
     "execution_count": 102,
     "metadata": {},
     "output_type": "execute_result"
    }
   ],
   "source": [
    "0 >= 0, 1 <= 5"
   ]
  },
  {
   "cell_type": "code",
   "execution_count": 103,
   "id": "65267b64",
   "metadata": {},
   "outputs": [],
   "source": [
    "x = [1, 2, 3]\n",
    "y = [1, 2, 3]"
   ]
  },
  {
   "cell_type": "code",
   "execution_count": 104,
   "id": "fdf373ea",
   "metadata": {},
   "outputs": [
    {
     "data": {
      "text/plain": [
       "True"
      ]
     },
     "execution_count": 104,
     "metadata": {},
     "output_type": "execute_result"
    }
   ],
   "source": [
    "x == y"
   ]
  },
  {
   "cell_type": "code",
   "execution_count": 105,
   "id": "58988abd",
   "metadata": {},
   "outputs": [
    {
     "data": {
      "text/plain": [
       "False"
      ]
     },
     "execution_count": 105,
     "metadata": {},
     "output_type": "execute_result"
    }
   ],
   "source": [
    "# Atmintyje kompiuterio sie objektai x ir y turi skirtingus adresus\n",
    "x is y"
   ]
  },
  {
   "cell_type": "code",
   "execution_count": 106,
   "id": "08658514",
   "metadata": {
    "scrolled": false
   },
   "outputs": [
    {
     "data": {
      "text/plain": [
       "True"
      ]
     },
     "execution_count": 106,
     "metadata": {},
     "output_type": "execute_result"
    }
   ],
   "source": [
    "# is None tikrinti isidemeti, tai yra isimtis (ne su \"=\" o su \"is\")\n",
    "# None yra specifinis floatas tai mums nereikia reiksmes jo lyginti\n",
    "None is None"
   ]
  },
  {
   "cell_type": "markdown",
   "id": "6d2c3468",
   "metadata": {},
   "source": [
    "## Sąlyga IF (jeigu):"
   ]
  },
  {
   "cell_type": "code",
   "execution_count": 107,
   "id": "007e5413",
   "metadata": {},
   "outputs": [],
   "source": [
    "x = 10\n",
    "y = 5"
   ]
  },
  {
   "cell_type": "code",
   "execution_count": 108,
   "id": "fa2bc70a",
   "metadata": {},
   "outputs": [
    {
     "name": "stdout",
     "output_type": "stream",
     "text": [
      "x yra didesnis uz y\n"
     ]
    }
   ],
   "source": [
    "if x > y:\n",
    "    print(\"x yra didesnis uz y\")\n",
    "else:\n",
    "    print(\"x nera didesnis uz y\")"
   ]
  },
  {
   "cell_type": "code",
   "execution_count": 109,
   "id": "a139448e",
   "metadata": {},
   "outputs": [
    {
     "name": "stdout",
     "output_type": "stream",
     "text": [
      "x ir y yra lygus\n"
     ]
    }
   ],
   "source": [
    "x = 5\n",
    "y = 5\n",
    "\n",
    "if x == y:\n",
    "    print(\"x ir y yra lygus\")\n",
    "elif x > y: \n",
    "    print(\"x yra didesnis uz y\")\n",
    "else:\n",
    "    print(\"x yra mazesnis uz y\")"
   ]
  },
  {
   "cell_type": "code",
   "execution_count": 110,
   "id": "e1e9c1e1",
   "metadata": {},
   "outputs": [
    {
     "data": {
      "text/plain": [
       "True"
      ]
     },
     "execution_count": 110,
     "metadata": {},
     "output_type": "execute_result"
    }
   ],
   "source": [
    "bool(5)"
   ]
  },
  {
   "cell_type": "code",
   "execution_count": 111,
   "id": "9bb66054",
   "metadata": {},
   "outputs": [
    {
     "name": "stdout",
     "output_type": "stream",
     "text": [
      "1\n"
     ]
    }
   ],
   "source": [
    "# Jei true atspausdiname\n",
    "\n",
    "if True:\n",
    "    print(1)"
   ]
  },
  {
   "cell_type": "code",
   "execution_count": 112,
   "id": "bd72605d",
   "metadata": {},
   "outputs": [],
   "source": [
    "# Jei false spausdiname ir nieko negauname\n",
    "\n",
    "if False:\n",
    "    print(1)"
   ]
  },
  {
   "cell_type": "code",
   "execution_count": 113,
   "id": "5cb6abe3",
   "metadata": {},
   "outputs": [],
   "source": [
    "# jei 0 neatspausdina, as gaunu false. Taip atsitinka delto, kad kaip sakant 0 as bandau paversti i \n",
    "# bool(0)\n",
    "# False\n",
    "# Jei as bandau stringa paversti i \n",
    "# bool(\"ff9832\")\n",
    "# True\n",
    "# bet tiktai tais atvejais jei stringe yra bent kas nors irasyta\n",
    "# jei stringas yra tuscias as gaunu false\n",
    "# si magija padaryta tam, kad mes galetume pasitikrinti\n",
    "\n",
    "if 0:\n",
    "    print(1)"
   ]
  },
  {
   "cell_type": "code",
   "execution_count": 114,
   "id": "99013554",
   "metadata": {},
   "outputs": [
    {
     "name": "stdout",
     "output_type": "stream",
     "text": [
      "1\n"
     ]
    }
   ],
   "source": [
    "#jei 5 atspausdina\n",
    "\n",
    "if 5:\n",
    "    print(1)"
   ]
  },
  {
   "cell_type": "code",
   "execution_count": 115,
   "id": "c240903c",
   "metadata": {},
   "outputs": [],
   "source": [
    "#jei turime tuscia stringa nieko negauname\n",
    "\n",
    "if \"\":\n",
    "    print(1)"
   ]
  },
  {
   "cell_type": "code",
   "execution_count": 116,
   "id": "956b5ab2",
   "metadata": {},
   "outputs": [
    {
     "name": "stdout",
     "output_type": "stream",
     "text": [
      "1\n"
     ]
    }
   ],
   "source": [
    "#jei turime stringe bent kazka irasyta mes gauname 1\n",
    "\n",
    "if \"532\":\n",
    "    print(1)"
   ]
  },
  {
   "cell_type": "code",
   "execution_count": 117,
   "id": "00800224",
   "metadata": {},
   "outputs": [
    {
     "name": "stdout",
     "output_type": "stream",
     "text": [
      "fas\n"
     ]
    }
   ],
   "source": [
    "vardas = \"fas\"\n",
    "if vardas:\n",
    "    print(vardas)"
   ]
  },
  {
   "cell_type": "code",
   "execution_count": 118,
   "id": "de3c7a41",
   "metadata": {},
   "outputs": [
    {
     "name": "stdout",
     "output_type": "stream",
     "text": [
      "423154\n"
     ]
    }
   ],
   "source": [
    "vardas = \"423154\"\n",
    "if vardas:\n",
    "    print(f\"{vardas}\")"
   ]
  },
  {
   "cell_type": "code",
   "execution_count": 119,
   "id": "dd3d3b4d",
   "metadata": {},
   "outputs": [
    {
     "name": "stdout",
     "output_type": "stream",
     "text": [
      "['safsa']\n"
     ]
    }
   ],
   "source": [
    "prekiu_sarasas = [\"safsa\"]\n",
    "if prekiu_sarasas:\n",
    "    print(f\"{prekiu_sarasas}\")"
   ]
  },
  {
   "cell_type": "code",
   "execution_count": 120,
   "id": "6e8ad6a4",
   "metadata": {},
   "outputs": [],
   "source": [
    "# realiai tikrini ar jame yra bent kazkas\n",
    "\n",
    "if len(prekiu_sarasas) > 0:\n",
    "    pass\n",
    "\n",
    "#lygiaverciai\n",
    "\n",
    "if prekiu_sarasas:\n",
    "    pass"
   ]
  },
  {
   "cell_type": "markdown",
   "id": "11841b39",
   "metadata": {},
   "source": [
    "## For and While loops"
   ]
  },
  {
   "cell_type": "code",
   "execution_count": 121,
   "id": "ada358d7",
   "metadata": {},
   "outputs": [],
   "source": [
    "# iteravimas"
   ]
  },
  {
   "cell_type": "code",
   "execution_count": 122,
   "id": "e0f670d1",
   "metadata": {},
   "outputs": [],
   "source": [
    "vardas = \"Vardenis\""
   ]
  },
  {
   "cell_type": "code",
   "execution_count": 123,
   "id": "cb60a7da",
   "metadata": {},
   "outputs": [],
   "source": [
    "# Norime paimti po viena elementa ir kazka su jais daryti."
   ]
  },
  {
   "cell_type": "code",
   "execution_count": 19,
   "id": "92e1ea3e",
   "metadata": {},
   "outputs": [
    {
     "name": "stdout",
     "output_type": "stream",
     "text": [
      "raide='V'\n",
      "raide='a'\n",
      "raide='r'\n",
      "raide='d'\n",
      "raide='e'\n",
      "raide='n'\n",
      "raide='i'\n",
      "raide='s'\n"
     ]
    }
   ],
   "source": [
    "for raide in vardas:\n",
    "    print(f\"{raide=}\")"
   ]
  },
  {
   "cell_type": "code",
   "execution_count": 125,
   "id": "0812dac7",
   "metadata": {},
   "outputs": [
    {
     "name": "stdout",
     "output_type": "stream",
     "text": [
      "elementas='aad'\n",
      "elementas='fsa'\n",
      "elementas='fsag'\n",
      "elementas=5156\n",
      "elementas=True\n",
      "elementas=None\n"
     ]
    }
   ],
   "source": [
    "for elementas in [\"aad\", \"fsa\", \"fsag\", 5156, True, None]:\n",
    "    print(f\"{elementas=}\")"
   ]
  },
  {
   "cell_type": "code",
   "execution_count": 126,
   "id": "1136599b",
   "metadata": {},
   "outputs": [
    {
     "name": "stdout",
     "output_type": "stream",
     "text": [
      "skaicius='0'\n",
      "skaicius='1'\n",
      "skaicius='2'\n",
      "skaicius='3'\n",
      "skaicius='4'\n"
     ]
    }
   ],
   "source": [
    "max_iterations = 5\n",
    "current_iteration = 0\n",
    "\n",
    "for skaicius in \"0123456\":\n",
    "    current_iteration += 1 #kiekvienos iteracijos metu pridedame po 1\n",
    "    print(f\"{skaicius=}\")   \n",
    "    if current_iteration == max_iterations:\n",
    "        break # iseisime is ciklo"
   ]
  },
  {
   "cell_type": "code",
   "execution_count": 127,
   "id": "8b05380f",
   "metadata": {
    "scrolled": true
   },
   "outputs": [
    {
     "name": "stdout",
     "output_type": "stream",
     "text": [
      "51651\n"
     ]
    }
   ],
   "source": [
    "while True: #neprintinti sio uzraso nes uzstrigs\n",
    "    print(51651)\n",
    "    break # isejimas is loop'o\n",
    "    print(51651)"
   ]
  },
  {
   "cell_type": "code",
   "execution_count": 128,
   "id": "f2afff8e",
   "metadata": {},
   "outputs": [
    {
     "name": "stdout",
     "output_type": "stream",
     "text": [
      "current_iteration=1 max_iterations=5\n",
      "current_iteration=2 max_iterations=5\n",
      "current_iteration=3 max_iterations=5\n",
      "current_iteration=4 max_iterations=5\n",
      "current_iteration=5 max_iterations=5\n"
     ]
    }
   ],
   "source": [
    "max_iterations = 5\n",
    "current_iteration = 0\n",
    "\n",
    "while current_iteration < max_iterations:\n",
    "    current_iteration += 1 #turime tai, kas prideda mums iteraciją\n",
    "    print(f\"{current_iteration=} {max_iterations=}\")"
   ]
  },
  {
   "cell_type": "markdown",
   "id": "dba46f05",
   "metadata": {},
   "source": [
    "# Užduotys"
   ]
  },
  {
   "cell_type": "markdown",
   "id": "d5ff97cc",
   "metadata": {},
   "source": [
    "## 1 užduotis"
   ]
  },
  {
   "cell_type": "code",
   "execution_count": 129,
   "id": "06434da4",
   "metadata": {},
   "outputs": [
    {
     "name": "stdout",
     "output_type": "stream",
     "text": [
      "The Zen of Python, by Tim Peters\n",
      "\n",
      "Beautiful is better than ugly.\n",
      "Explicit is better than implicit.\n",
      "Simple is better than complex.\n",
      "Complex is better than complicated.\n",
      "Flat is better than nested.\n",
      "Sparse is better than dense.\n",
      "Readability counts.\n",
      "Special cases aren't special enough to break the rules.\n",
      "Although practicality beats purity.\n",
      "Errors should never pass silently.\n",
      "Unless explicitly silenced.\n",
      "In the face of ambiguity, refuse the temptation to guess.\n",
      "There should be one-- and preferably only one --obvious way to do it.\n",
      "Although that way may not be obvious at first unless you're Dutch.\n",
      "Now is better than never.\n",
      "Although never is often better than *right* now.\n",
      "If the implementation is hard to explain, it's a bad idea.\n",
      "If the implementation is easy to explain, it may be a good idea.\n",
      "Namespaces are one honking great idea -- let's do more of those!\n"
     ]
    }
   ],
   "source": [
    "import this"
   ]
  },
  {
   "cell_type": "code",
   "execution_count": 130,
   "id": "b52cfc60",
   "metadata": {},
   "outputs": [],
   "source": [
    "s = \"\"\"The Zen of Python, by Tim Peters\n",
    "\n",
    "Beautiful is better than ugly.\n",
    "Explicit is better than implicit.\n",
    "Simple is better than complex.\n",
    "Complex is better than complicated.\n",
    "Flat is better than nested.\n",
    "Sparse is better than dense.\n",
    "Readability counts.\n",
    "Special cases aren't special enough to break the rules.\n",
    "Although practicality beats purity.\n",
    "Errors should never pass silently.\n",
    "Unless explicitly silenced.\n",
    "In the face of ambiguity, refuse the temptation to guess.\n",
    "There should be one-- and preferably only one --obvious way to do it.\n",
    "Although that way may not be obvious at first unless you're Dutch.\n",
    "Now is better than never.\n",
    "Although never is often better than *right* now.\n",
    "If the implementation is hard to explain, it's a bad idea.\n",
    "If the implementation is easy to explain, it may be a good idea.\n",
    "Namespaces are one honking great idea -- let's do more of those!\"\"\""
   ]
  },
  {
   "cell_type": "code",
   "execution_count": 131,
   "id": "a785343c",
   "metadata": {},
   "outputs": [],
   "source": [
    "# Parasyti programa, kuri su eilute \"Zen of Python\" darytu siuos veiksmus:\n",
    "\n",
    "# 1.Atspausdintu paskutini antro zodzio simboli\n",
    "# 2.Atspausdintu pirma trecio zodzio simboli\n",
    "# 3.Atspausdintu tik pirma zodi\n",
    "# 4.Atspausdintu tik paskutini zodi\n",
    "# 5.Atspausdintu visa fraze atbulai\n",
    "# 6.Atskirtu zodzius ir juos atspausdintu\n",
    "# 7.Zodi \"Python\" pakeistu i \"Programming\" ir atspausdintu nauja sakini\n",
    "# Patarimas: naudoti string karpymo irankius, funkcijas split(), replace()"
   ]
  },
  {
   "cell_type": "code",
   "execution_count": 21,
   "id": "a73b14a5",
   "metadata": {},
   "outputs": [],
   "source": [
    "s = \"The Zen of Python\""
   ]
  },
  {
   "cell_type": "code",
   "execution_count": 23,
   "id": "1e92646d",
   "metadata": {},
   "outputs": [
    {
     "name": "stdout",
     "output_type": "stream",
     "text": [
      "n\n"
     ]
    }
   ],
   "source": [
    "#1\n",
    "print(s[6])"
   ]
  },
  {
   "cell_type": "code",
   "execution_count": 134,
   "id": "37483325",
   "metadata": {},
   "outputs": [
    {
     "name": "stdout",
     "output_type": "stream",
     "text": [
      "o\n"
     ]
    }
   ],
   "source": [
    "#2\n",
    "print(s[8])"
   ]
  },
  {
   "cell_type": "code",
   "execution_count": 29,
   "id": "c3ef8644",
   "metadata": {},
   "outputs": [
    {
     "name": "stdout",
     "output_type": "stream",
     "text": [
      "The\n"
     ]
    }
   ],
   "source": [
    "#3\n",
    "print(s[:3])"
   ]
  },
  {
   "cell_type": "code",
   "execution_count": 136,
   "id": "0208c229",
   "metadata": {},
   "outputs": [
    {
     "name": "stdout",
     "output_type": "stream",
     "text": [
      "Python\n"
     ]
    }
   ],
   "source": [
    "#4\n",
    "print(s[11:])"
   ]
  },
  {
   "cell_type": "code",
   "execution_count": 137,
   "id": "e12d3f00",
   "metadata": {},
   "outputs": [
    {
     "name": "stdout",
     "output_type": "stream",
     "text": [
      "nohtyP fo neZ ehT\n"
     ]
    }
   ],
   "source": [
    "#5\n",
    "print(s[::-1])"
   ]
  },
  {
   "cell_type": "code",
   "execution_count": 138,
   "id": "e8aa64dc",
   "metadata": {},
   "outputs": [
    {
     "name": "stdout",
     "output_type": "stream",
     "text": [
      "['The', 'Zen', 'of', 'Python']\n"
     ]
    }
   ],
   "source": [
    "#6.1\n",
    "print(s.split())"
   ]
  },
  {
   "cell_type": "code",
   "execution_count": 139,
   "id": "ec8889dc",
   "metadata": {},
   "outputs": [
    {
     "name": "stdout",
     "output_type": "stream",
     "text": [
      "s='The Zen of Python'\n"
     ]
    }
   ],
   "source": [
    "#6.2\n",
    "print(f\"{s=}\")"
   ]
  },
  {
   "cell_type": "code",
   "execution_count": 140,
   "id": "aafed2fe",
   "metadata": {},
   "outputs": [
    {
     "name": "stdout",
     "output_type": "stream",
     "text": [
      "The Zen of Programming\n"
     ]
    }
   ],
   "source": [
    "# Patarimas: naudoti string karpymo irankius, funkcijas split(), replace()\n",
    "#7\n",
    "s = \"The Zen of Python\"\n",
    "y = s.replace(\"Python\", \"Programming\")\n",
    "print(y)"
   ]
  },
  {
   "cell_type": "markdown",
   "id": "17bce24a",
   "metadata": {},
   "source": [
    "## 2 užduotis"
   ]
  },
  {
   "cell_type": "code",
   "execution_count": 141,
   "id": "0093a53d",
   "metadata": {},
   "outputs": [
    {
     "data": {
      "text/plain": [
       "'\\nParasyti programa, kuri:\\n    \\nLeistu ivesti skaicius a ir b (int arba float)\\nIsvestu i ekrana \"a mazesnis uz b\", jei taip yra\\nIsvestu i ekrana \"a lygu b\", jei taip yra\\nIsvestu i ekrana \"a didesnis uz b\", jei taip yra\\nPatarimas: naudoti if, elif, else salygas\\n'"
      ]
     },
     "execution_count": 141,
     "metadata": {},
     "output_type": "execute_result"
    }
   ],
   "source": [
    "'''\n",
    "Parasyti programa, kuri:\n",
    "    \n",
    "Leistu ivesti skaicius a ir b (int arba float)\n",
    "Isvestu i ekrana \"a mazesnis uz b\", jei taip yra\n",
    "Isvestu i ekrana \"a lygu b\", jei taip yra\n",
    "Isvestu i ekrana \"a didesnis uz b\", jei taip yra\n",
    "Patarimas: naudoti if, elif, else salygas\n",
    "'''"
   ]
  },
  {
   "cell_type": "code",
   "execution_count": 36,
   "id": "ea811347",
   "metadata": {},
   "outputs": [
    {
     "name": "stdout",
     "output_type": "stream",
     "text": [
      "iveskite skaiciu a 3\n",
      "iveskite skaiciu b 4\n",
      "a mazesnis uz b\n"
     ]
    }
   ],
   "source": [
    "a = input(\"iveskite skaiciu a \")\n",
    "b = input(\"iveskite skaiciu b \")\n",
    "\n",
    "a = float(a)\n",
    "b = float(b)\n",
    "\n",
    "if a < b:\n",
    "    print(\"a mazesnis uz b\")\n",
    "elif a == b:\n",
    "    print(\"a lygu b\")\n",
    "else:\n",
    "    print(\"a didesnis uz b\")"
   ]
  },
  {
   "cell_type": "code",
   "execution_count": 30,
   "id": "3faa8f58",
   "metadata": {},
   "outputs": [
    {
     "name": "stdout",
     "output_type": "stream",
     "text": [
      "Iveskite varda: Ruta\n",
      "Ruta\n"
     ]
    }
   ],
   "source": [
    "vardas = input(\"Iveskite varda: \")\n",
    "print(vardas)"
   ]
  },
  {
   "cell_type": "code",
   "execution_count": 31,
   "id": "b6c3109e",
   "metadata": {},
   "outputs": [
    {
     "name": "stdout",
     "output_type": "stream",
     "text": [
      "Enter your name: Ruta\n",
      "Hello, Ruta\n"
     ]
    }
   ],
   "source": [
    "#print()\n",
    "x = input('Enter your name: ')\n",
    "print('Hello, ' + x)"
   ]
  },
  {
   "cell_type": "code",
   "execution_count": 32,
   "id": "3d0df4b0",
   "metadata": {},
   "outputs": [
    {
     "name": "stdout",
     "output_type": "stream",
     "text": [
      "Enter your name:Ruta\n",
      "Hello, Ruta\n"
     ]
    }
   ],
   "source": [
    "x = input('Enter your name:')\n",
    "print('Hello, ' + x)"
   ]
  },
  {
   "cell_type": "code",
   "execution_count": 34,
   "id": "920c767b",
   "metadata": {},
   "outputs": [
    {
     "data": {
      "text/plain": [
       "True"
      ]
     },
     "execution_count": 34,
     "metadata": {},
     "output_type": "execute_result"
    }
   ],
   "source": [
    "\"3g\" > \"1g\""
   ]
  },
  {
   "cell_type": "markdown",
   "id": "af83a513",
   "metadata": {},
   "source": [
    "## 3 užduotis"
   ]
  },
  {
   "cell_type": "code",
   "execution_count": 37,
   "id": "a7b4b1e0",
   "metadata": {},
   "outputs": [
    {
     "data": {
      "text/plain": [
       "' \\n#Programoje isbandyti string metodus:\\n#Issamiau https://www.w3schools.com/python/python_ref_string.asp\\n\\nupper()\\ncasefold()\\ncapitalize()\\ncount()\\nfind()\\nir t.t.\\n'"
      ]
     },
     "execution_count": 37,
     "metadata": {},
     "output_type": "execute_result"
    }
   ],
   "source": [
    "\"\"\" \n",
    "#Programoje isbandyti string metodus:\n",
    "#Issamiau https://www.w3schools.com/python/python_ref_string.asp\n",
    "\n",
    "upper()\n",
    "casefold()\n",
    "capitalize()\n",
    "count()\n",
    "find()\n",
    "ir t.t.\n",
    "\"\"\""
   ]
  },
  {
   "cell_type": "code",
   "execution_count": 148,
   "id": "f9165823",
   "metadata": {},
   "outputs": [
    {
     "name": "stdout",
     "output_type": "stream",
     "text": [
      "THE ZEN OF PYTHON\n"
     ]
    }
   ],
   "source": [
    "s = \"The Zen of Python\"\n",
    "x = s.upper()\n",
    "print(x)"
   ]
  },
  {
   "cell_type": "code",
   "execution_count": 149,
   "id": "25696c9b",
   "metadata": {},
   "outputs": [
    {
     "name": "stdout",
     "output_type": "stream",
     "text": [
      "the zen of python\n"
     ]
    }
   ],
   "source": [
    "s = \"The Zen of Python\".\n",
    "x = s.casefold()\n",
    "print(x)"
   ]
  },
  {
   "cell_type": "code",
   "execution_count": 150,
   "id": "d89e649b",
   "metadata": {},
   "outputs": [
    {
     "name": "stdout",
     "output_type": "stream",
     "text": [
      "The zen of python\n"
     ]
    }
   ],
   "source": [
    "s = \"The Zen of Python\"\n",
    "x = s.capitalize()\n",
    "print(x)"
   ]
  },
  {
   "cell_type": "code",
   "execution_count": 151,
   "id": "3d8e346e",
   "metadata": {},
   "outputs": [
    {
     "name": "stdout",
     "output_type": "stream",
     "text": [
      "2\n"
     ]
    }
   ],
   "source": [
    "s = \"The Zen of Python\"\n",
    "x = s.count(\"o\")\n",
    "print(x)"
   ]
  },
  {
   "cell_type": "code",
   "execution_count": 152,
   "id": "602b21a3",
   "metadata": {},
   "outputs": [
    {
     "name": "stdout",
     "output_type": "stream",
     "text": [
      "2\n"
     ]
    }
   ],
   "source": [
    "s = \"The Zen of Python\"\n",
    "x = s.find(\"e\")\n",
    "print(x)"
   ]
  },
  {
   "cell_type": "markdown",
   "id": "5cad6b21",
   "metadata": {},
   "source": [
    "## 4 užduotis"
   ]
  },
  {
   "cell_type": "code",
   "execution_count": null,
   "id": "e2512154",
   "metadata": {},
   "outputs": [],
   "source": [
    "\"\"\"\n",
    "Parašyti programą, kuri:\n",
    "Leistų įvesti pirmą skaičių\n",
    "Leistų įvesti antrą skaičių\n",
    "Paklaustų, kokį matematinį veiksmą reiktų atlikti\n",
    "Atspausdintų rezultatą: pasirinktų skaičių suma, daugybą ar pan.\n",
    "Patarimas: naudoti input(), if, print\n",
    "\n",
    "\"\"\""
   ]
  },
  {
   "cell_type": "code",
   "execution_count": 40,
   "id": "12b8fb7e",
   "metadata": {},
   "outputs": [
    {
     "name": "stdout",
     "output_type": "stream",
     "text": [
      "Please enter the first number: 2\n",
      "Please enter the second number: 4\n",
      "Please enter arithmetical operator \"+\" or \"-\" or \"*\" or \"/\": -\n",
      "2 - 4 = \n",
      "-2\n"
     ]
    }
   ],
   "source": [
    "#MANO SPRENDIMAS\n",
    "\n",
    "def calculate():\n",
    "    number_1 = int(input('Please enter the first number: '))\n",
    "    number_2 = int(input('Please enter the second number: '))\n",
    "    operation = input('Please enter arithmetical operator \"+\" or \"-\" or \"*\" or \"/\": ')\n",
    "   \n",
    "\n",
    "    if operation == '+':\n",
    "        print(f'{number_1} + {number_2} = ') \n",
    "        print(number_1 + number_2)\n",
    "    elif operation == '-':\n",
    "        print(f'{number_1} - {number_2} = ')\n",
    "        print(number_1 - number_2)\n",
    "    elif operation == '*':\n",
    "        print(f'{number_2} * {number_2} = ')\n",
    "        print(number_1 * number_2)\n",
    "    elif operation == '/':\n",
    "        print(f'{number_1} / {number_2} = ')\n",
    "        print(number_1 / number_2)\n",
    "\n",
    "calculate()"
   ]
  },
  {
   "cell_type": "code",
   "execution_count": 8,
   "id": "c6c8193d",
   "metadata": {},
   "outputs": [
    {
     "name": "stdout",
     "output_type": "stream",
     "text": [
      "Insert first number: 8\n",
      "Insert second number: 2\n",
      "Which math operation would you like to perform?\n",
      "Insert +, -, /, *: *\n",
      "8.0 * 2.0 = 16.0\n"
     ]
    }
   ],
   "source": [
    "#STUDENTO GERAS SPRENDIMAS\n",
    "\n",
    "number1 = input(\"Insert first number: \")\n",
    "number1 = float(number1)\n",
    "\n",
    "number2 = input(\"Insert second number: \")\n",
    "number2 = float(number2)\n",
    "\n",
    "print(\"Which math operation would you like to perform?\")\n",
    "operator = input(\"Insert +, -, /, *: \")\n",
    "\n",
    "if operator == \"+\":\n",
    "    rezultatas = number1 + number2\n",
    "elif operator == \"-\":\n",
    "    rezultatas = number1 - number2\n",
    "elif operator == \"/\":\n",
    "    rezultatas = number1 / number2\n",
    "elif operator == \"*\":\n",
    "    rezultatas = number1 * number2\n",
    "else:    \n",
    "    print(\"Error\")\n",
    "    \n",
    "print(number1, operator, number2, \"=\", rezultatas)"
   ]
  },
  {
   "cell_type": "code",
   "execution_count": 15,
   "id": "9361df84",
   "metadata": {},
   "outputs": [
    {
     "name": "stdout",
     "output_type": "stream",
     "text": [
      "X9\n",
      "+-*/: -\n",
      "7.0\n"
     ]
    }
   ],
   "source": [
    "#DESTYTOJO SPRENDIMAS\n",
    "\n",
    "x, y = 1, 2\n",
    "x = float(input('X'))\n",
    "#operator = '/'\n",
    "operator = input(\"+-*/: \")\n",
    "valid_operators = \"+-*/\"\n",
    "if operator not in valid_operators:\n",
    "    print(\"Not valid operator\")\n",
    "else:\n",
    "    result = eval(f\"{x} {operator} {y}\")\n",
    "    print(result)"
   ]
  },
  {
   "cell_type": "markdown",
   "id": "4e6a8386",
   "metadata": {},
   "source": [
    "## 5 užduotis"
   ]
  },
  {
   "cell_type": "code",
   "execution_count": null,
   "id": "5a87ef1c",
   "metadata": {},
   "outputs": [],
   "source": [
    "\"\"\"\n",
    "Parašyti programą, kuri:\n",
    "\n",
    "Leistų įvesti skaičių\n",
    "Išvesti į ekraną „Skaičius yra lyginis“, jei taip yra\n",
    "Išvesti į ekraną „Skaičius yra nelyginis“, jei taip yra\n",
    "Išvesti į ekraną „Skaičius dalinasi iš 3“, jei skaičius dalinasi iš trijų\n",
    "Patarimas: naudoti input(), if, print, %, <, >\n",
    "\n",
    "\"\"\""
   ]
  },
  {
   "cell_type": "code",
   "execution_count": 16,
   "id": "a439d60a",
   "metadata": {},
   "outputs": [
    {
     "name": "stdout",
     "output_type": "stream",
     "text": [
      "Enter your number: 7\n",
      "7 number is odd\n"
     ]
    }
   ],
   "source": [
    "#MANO SPRENDIMAS\n",
    "\n",
    "x = int(input(\"Enter your number: \"))\n",
    "\n",
    "if x % 2 == 0:\n",
    "    print(f\"{x} number is even\")\n",
    "else:\n",
    "    print(f\"{x} number is odd\")\n",
    "    \n",
    "if x % 3 == 0:\n",
    "        print(f\"{x} is divisible by 3\")"
   ]
  },
  {
   "cell_type": "code",
   "execution_count": 2,
   "id": "a9928db1",
   "metadata": {},
   "outputs": [
    {
     "name": "stdout",
     "output_type": "stream",
     "text": [
      "Enter number: 8\n",
      "Number is even\n"
     ]
    }
   ],
   "source": [
    "#DESTYTOJO\n",
    "\n",
    "number = float(input(\"Enter number: \"))\n",
    "\n",
    "if number % 2 == 0:\n",
    "    print(\"Number is even\")\n",
    "else:\n",
    "    print(\"Number is not even\")\n",
    "\n",
    "if number % 3 == 0:\n",
    "    print(\"Number is divisible by 3\")"
   ]
  },
  {
   "cell_type": "code",
   "execution_count": 17,
   "id": "ba81fb69",
   "metadata": {},
   "outputs": [],
   "source": [
    "#DRY - Do Not Repeat Yourself"
   ]
  },
  {
   "cell_type": "markdown",
   "id": "2b9ff73a",
   "metadata": {},
   "source": [
    "## Klausimai: Slice'inimas \"x:y:z\" z - kas kelintas elementas. Kaip slice'inti kas kelintą elementą?"
   ]
  },
  {
   "cell_type": "markdown",
   "id": "fb71051c",
   "metadata": {},
   "source": [
    "## Help Keyboard shortcuts "
   ]
  },
  {
   "cell_type": "markdown",
   "id": "df254564",
   "metadata": {},
   "source": [
    "## None is None kaip suprasti, kur naudojama pvz.?"
   ]
  },
  {
   "cell_type": "markdown",
   "id": "94df525b",
   "metadata": {},
   "source": [
    "## IF tikrinimas nelabai aišku"
   ]
  },
  {
   "cell_type": "markdown",
   "id": "89c34a11",
   "metadata": {},
   "source": [
    "## Kada naudojamas For kada While loop?"
   ]
  },
  {
   "cell_type": "markdown",
   "id": "71dc35f3",
   "metadata": {},
   "source": [
    "# ĮSIDĖMĖTI:\n",
    "\n",
    "# 5.Atspausdintų visą frazę atbulai\n",
    "\n",
    "# print(s[::-1])\n",
    "\n",
    "\n",
    "\n",
    "\n",
    "# 7.Zodi \"Python\" pakeistų i \"Programming\" ir atspausdintų naują sakinį\n",
    "\n",
    "# Patarimas: naudoti string karpymo įrankius, funkcijas split(), replace()\n",
    "# s = \"The Zen of Python\"\n",
    "# y = s.replace(\"Python\", \"Programming\")\n",
    "# print(y)\n",
    "\n",
    "\n",
    "# String metodus peržvelgti išsamiau\n",
    "\n",
    "# Eval metodas kam ir kada naudojamas?\n",
    "\n",
    "# x = \" \" tuscias stringas ir += kada naudojama? Kaip suprasti toki uzrasyma?"
   ]
  }
 ],
 "metadata": {
  "kernelspec": {
   "display_name": "Python 3 (ipykernel)",
   "language": "python",
   "name": "python3"
  },
  "language_info": {
   "codemirror_mode": {
    "name": "ipython",
    "version": 3
   },
   "file_extension": ".py",
   "mimetype": "text/x-python",
   "name": "python",
   "nbconvert_exporter": "python",
   "pygments_lexer": "ipython3",
   "version": "3.9.7"
  }
 },
 "nbformat": 4,
 "nbformat_minor": 5
}
